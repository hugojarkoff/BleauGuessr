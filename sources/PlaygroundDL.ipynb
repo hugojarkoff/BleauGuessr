{
 "cells": [
  {
   "cell_type": "code",
   "execution_count": null,
   "metadata": {},
   "outputs": [],
   "source": [
    "import pandas as pd\n",
    "import numpy as np\n",
    "import shutil\n",
    "import os\n",
    "import tensorflow as tf\n",
    "from tensorflow.keras import layers, models\n",
    "from tensorflow.keras.preprocessing import image_dataset_from_directory\n",
    "from plotly import express as px\n",
    "import cv2"
   ]
  },
  {
   "cell_type": "code",
   "execution_count": null,
   "metadata": {},
   "outputs": [],
   "source": [
    "DATA_PATH = '../data/butteauxpeintres2/'\n",
    "\n",
    "folders = next(os.walk(DATA_PATH))[1]  # Get a list of all subdirectories\n",
    "NUM_CLASSES = len(folders)  # Count the number of subdirectories\n",
    "\n",
    "IMG_SIZE = (256, 256)"
   ]
  },
  {
   "attachments": {},
   "cell_type": "markdown",
   "metadata": {},
   "source": [
    "## Define data pipeline"
   ]
  },
  {
   "cell_type": "code",
   "execution_count": null,
   "metadata": {},
   "outputs": [],
   "source": [
    "dataset_train, dataset_test = image_dataset_from_directory(\n",
    "                    DATA_PATH,\n",
    "                    labels='inferred',\n",
    "                    label_mode='categorical',\n",
    "                    class_names=None,\n",
    "                    color_mode='rgb',\n",
    "                    batch_size=4,\n",
    "                    image_size=IMG_SIZE,\n",
    "                    shuffle=True,\n",
    "                    seed=0,\n",
    "                    subset='both',\n",
    "                    validation_split=0.3,\n",
    "                    interpolation='bilinear',\n",
    "                    follow_links=False,\n",
    "                    crop_to_aspect_ratio=True,\n",
    "                )\n",
    "\n",
    "class_names = dataset_train.class_names"
   ]
  },
  {
   "cell_type": "code",
   "execution_count": null,
   "metadata": {},
   "outputs": [],
   "source": [
    "dataset_test.class_names"
   ]
  },
  {
   "cell_type": "markdown",
   "metadata": {},
   "source": [
    "# Augmentations"
   ]
  },
  {
   "cell_type": "code",
   "execution_count": null,
   "metadata": {},
   "outputs": [],
   "source": [
    "# Define the preprocessing layers for data augmentation\n",
    "data_augmentation = tf.keras.Sequential([\n",
    "  \n",
    "  tf.keras.layers.RandomRotation(0.2), \n",
    "  tf.keras.layers.RandomZoom(0.2),\n",
    "  tf.keras.layers.RandomContrast(0.2),\n",
    "  tf.keras.layers.RandomBrightness(0.2),\n",
    "])\n",
    "\n",
    "dataset_train = dataset_train.map(lambda x, y: (data_augmentation(x), y))\n",
    "dataset_train = dataset_train.prefetch(tf.data.AUTOTUNE)"
   ]
  },
  {
   "attachments": {},
   "cell_type": "markdown",
   "metadata": {},
   "source": [
    "# Define model"
   ]
  },
  {
   "cell_type": "code",
   "execution_count": null,
   "metadata": {},
   "outputs": [],
   "source": [
    "# Define the input shape of the images\n",
    "input_shape = IMG_SIZE + (3,)\n",
    "\n",
    "# Define the convolutional neural network architecture\n",
    "model = models.Sequential()\n",
    "model.add(tf.keras.layers.Rescaling(1./255, input_shape=input_shape))\n",
    "model.add(layers.Conv2D(32, (3, 3), activation='relu'))\n",
    "model.add(layers.MaxPooling2D((2, 2)))\n",
    "model.add(layers.Conv2D(64, (3, 3), activation='relu'))\n",
    "model.add(layers.MaxPooling2D((2, 2)))\n",
    "model.add(layers.Conv2D(128, (3, 3), activation='relu'))\n",
    "model.add(layers.MaxPooling2D((2, 2)))\n",
    "model.add(layers.Flatten())\n",
    "model.add(layers.Dense(64, activation='relu'))\n",
    "model.add(layers.Dense(NUM_CLASSES, activation='softmax'))"
   ]
  },
  {
   "cell_type": "code",
   "execution_count": null,
   "metadata": {},
   "outputs": [],
   "source": [
    "# Compile the model\n",
    "model.compile(optimizer='adam',\n",
    "              loss='categorical_crossentropy',\n",
    "              metrics=['accuracy'],\n",
    "              )"
   ]
  },
  {
   "attachments": {},
   "cell_type": "markdown",
   "metadata": {},
   "source": [
    "# Train"
   ]
  },
  {
   "cell_type": "code",
   "execution_count": null,
   "metadata": {},
   "outputs": [],
   "source": [
    "# Train the model\n",
    "history = model.fit(dataset_train, epochs=50, validation_data=dataset_test)"
   ]
  },
  {
   "attachments": {},
   "cell_type": "markdown",
   "metadata": {},
   "source": [
    "# Predict"
   ]
  },
  {
   "cell_type": "code",
   "execution_count": null,
   "metadata": {},
   "outputs": [],
   "source": [
    "ds_test = [exs for exs in dataset_test.as_numpy_iterator()]\n",
    "len(ds_test)"
   ]
  },
  {
   "cell_type": "code",
   "execution_count": null,
   "metadata": {},
   "outputs": [],
   "source": [
    "for exs in dataset_test.as_numpy_iterator() : \n",
    "    \n",
    "    X,Y = exs\n",
    "\n",
    "    for x,y in zip(X,Y) : \n",
    "\n",
    "        print('='*20)\n",
    "\n",
    "        label = class_names[np.argmax(y)]\n",
    "\n",
    "        fig = px.imshow(x)\n",
    "        fig.show()\n",
    "\n",
    "        img = np.expand_dims(x, axis=0) # add batch dimension\n",
    "        res = model.predict(img)\n",
    "\n",
    "        print(f'truth : {label}')\n",
    "        print(f'predict : {class_names[np.argmax(res)]}')\n",
    "\n",
    "        fig2 = px.bar(x=class_names, y=res[0])\n",
    "        fig2.show()"
   ]
  },
  {
   "cell_type": "code",
   "execution_count": null,
   "metadata": {},
   "outputs": [],
   "source": [
    "X.shape"
   ]
  },
  {
   "cell_type": "code",
   "execution_count": null,
   "metadata": {},
   "outputs": [],
   "source": []
  }
 ],
 "metadata": {
  "kernelspec": {
   "display_name": "Python 3",
   "language": "python",
   "name": "python3"
  },
  "language_info": {
   "codemirror_mode": {
    "name": "ipython",
    "version": 3
   },
   "file_extension": ".py",
   "mimetype": "text/x-python",
   "name": "python",
   "nbconvert_exporter": "python",
   "pygments_lexer": "ipython3",
   "version": "3.10.10"
  },
  "orig_nbformat": 4
 },
 "nbformat": 4,
 "nbformat_minor": 2
}
