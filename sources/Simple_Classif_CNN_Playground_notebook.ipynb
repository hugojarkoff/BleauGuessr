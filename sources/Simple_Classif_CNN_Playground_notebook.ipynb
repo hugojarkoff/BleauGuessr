{
 "cells": [
  {
   "cell_type": "code",
   "execution_count": null,
   "metadata": {},
   "outputs": [],
   "source": [
    "COLAB = False\n",
    "if COLAB : \n",
    "    !pip install tensorflow-addons\n",
    "    from google.colab import drive\n",
    "    drive.mount('/content/gdrive')"
   ]
  },
  {
   "cell_type": "code",
   "execution_count": null,
   "metadata": {},
   "outputs": [],
   "source": [
    "import os\n",
    "os.environ['TF_CPP_MIN_LOG_LEVEL'] = '3'\n",
    "\n",
    "import pandas as pd\n",
    "import numpy as np\n",
    "import shutil\n",
    "import os\n",
    "\n",
    "import tensorflow as tf\n",
    "from tensorflow.keras import layers, models\n",
    "from tensorflow.keras.preprocessing import image_dataset_from_directory\n",
    "from tensorflow.keras.applications.resnet50 import ResNet50\n",
    "from tensorflow.keras import Model\n",
    "\n",
    "from plotly import express as px\n",
    "\n",
    "import logging\n",
    "logging.getLogger('tensorflow_addons').setLevel(logging.ERROR)"
   ]
  },
  {
   "cell_type": "code",
   "execution_count": null,
   "metadata": {},
   "outputs": [],
   "source": [
    "if COLAB : \n",
    "    DATA_PATH = '/content/gdrive/MyDrive/Projects/BleauGuessr/data/fulldata/'\n",
    "else :\n",
    "    DATA_PATH = '../data/fulldata/'\n",
    "\n",
    "folders = next(os.walk(DATA_PATH))[1]  # Get a list of all subdirectories\n",
    "NUM_CLASSES = len(folders)  # Count the number of subdirectories\n",
    "\n",
    "IMG_SIZE = (512, 512)"
   ]
  },
  {
   "attachments": {},
   "cell_type": "markdown",
   "metadata": {},
   "source": [
    "## Define data pipeline"
   ]
  },
  {
   "cell_type": "code",
   "execution_count": null,
   "metadata": {},
   "outputs": [],
   "source": [
    "dataset_train, dataset_test = image_dataset_from_directory(\n",
    "                    DATA_PATH,\n",
    "                    labels='inferred',\n",
    "                    label_mode='categorical',\n",
    "                    class_names=None,\n",
    "                    color_mode='rgb',\n",
    "                    batch_size=4,\n",
    "                    image_size=IMG_SIZE,\n",
    "                    shuffle=True,\n",
    "                    seed=0,\n",
    "                    subset='both',\n",
    "                    validation_split=0.4,\n",
    "                    interpolation='bilinear',\n",
    "                    follow_links=False,\n",
    "                    crop_to_aspect_ratio=True,\n",
    "                )\n",
    "\n",
    "class_names = dataset_train.class_names"
   ]
  },
  {
   "cell_type": "code",
   "execution_count": null,
   "metadata": {},
   "outputs": [],
   "source": [
    "dataset_test.class_names"
   ]
  },
  {
   "cell_type": "markdown",
   "metadata": {},
   "source": [
    "# Augmentations"
   ]
  },
  {
   "cell_type": "code",
   "execution_count": null,
   "metadata": {},
   "outputs": [],
   "source": [
    "# Define the preprocessing function\n",
    "def _normalize_img(img, label):\n",
    "    img = tf.cast(img, tf.float32) / 255.\n",
    "    return (img, label)\n",
    "\n",
    "\n",
    "# Define the preprocessing layers for data augmentation\n",
    "data_augmentation = tf.keras.Sequential([\n",
    "  tf.keras.layers.RandomRotation(0.1), \n",
    "  tf.keras.layers.RandomZoom(0.2, 0.5),\n",
    "  tf.keras.layers.RandomContrast(0.4),\n",
    "  tf.keras.layers.RandomBrightness(0.4, value_range=(0,1)),\n",
    "])\n",
    "\n",
    "# Normalize the images\n",
    "dataset_train = dataset_train.map(_normalize_img)\n",
    "dataset_test = dataset_test.map(_normalize_img)\n",
    "\n",
    "# Augmentations only on the training set\n",
    "dataset_train = dataset_train.map(lambda x, y: (data_augmentation(x), y))\n",
    "dataset_train = dataset_train.prefetch(tf.data.AUTOTUNE) # Speeds up training by caching augmentations and dataset in memory\n"
   ]
  },
  {
   "attachments": {},
   "cell_type": "markdown",
   "metadata": {},
   "source": [
    "# Define model"
   ]
  },
  {
   "cell_type": "code",
   "execution_count": null,
   "metadata": {},
   "outputs": [],
   "source": [
    "# Base ResNet model\n",
    "base_model = ResNet50(weights='imagenet', include_top=False, input_shape=IMG_SIZE +(3,))\n",
    "\n",
    "# Add top embedding layer\n",
    "x = base_model.output\n",
    "x = layers.GlobalAveragePooling2D()(x)\n",
    "x = layers.Flatten()(x)\n",
    "x = layers.Dense(128, \n",
    "                 activation='relu', \n",
    "                 )(x)\n",
    "x = layers.Dense(NUM_CLASSES,\n",
    "                 activation='softmax',)(x)\n",
    "model = Model(inputs=base_model.input, outputs=x)\n",
    "\n",
    "\n",
    "# Freeze all but last conv layer of base model\n",
    "for layer in base_model.layers : \n",
    "    if layer.name not in ['conv5_block3_3_conv'] : \n",
    "        layer.trainable = False"
   ]
  },
  {
   "cell_type": "code",
   "execution_count": null,
   "metadata": {},
   "outputs": [],
   "source": [
    "# # Define the input shape of the images\n",
    "# input_shape = IMG_SIZE + (3,)\n",
    "\n",
    "# # Define the convolutional neural network architecture\n",
    "# model = tf.keras.Sequential([\n",
    "#     tf.keras.layers.Conv2D(filters=32, kernel_size=2, padding='same', activation='relu', input_shape=IMG_SIZE +(3,)),\n",
    "#     tf.keras.layers.MaxPooling2D(pool_size=2),\n",
    "#     tf.keras.layers.Dropout(0.3),\n",
    "#     tf.keras.layers.Conv2D(filters=64, kernel_size=2, padding='same', activation='relu'),\n",
    "#     tf.keras.layers.MaxPooling2D(pool_size=2),\n",
    "#     tf.keras.layers.Conv2D(filters=128, kernel_size=2, padding='same', activation='relu'),\n",
    "#     tf.keras.layers.MaxPooling2D(pool_size=2),\n",
    "#     tf.keras.layers.Flatten(),\n",
    "#     tf.keras.layers.Dense(64, activation='relu'),\n",
    "#     tf.keras.layers.Dense(NUM_CLASSES, activation='softmax')\n",
    "# ])"
   ]
  },
  {
   "cell_type": "code",
   "execution_count": null,
   "metadata": {},
   "outputs": [],
   "source": [
    "# Compile the model\n",
    "model.compile(optimizer=tf.keras.optimizers.Adam(learning_rate=0.0001),\n",
    "              loss='categorical_crossentropy',\n",
    "              metrics=['accuracy'],\n",
    "              )"
   ]
  },
  {
   "attachments": {},
   "cell_type": "markdown",
   "metadata": {},
   "source": [
    "# Train"
   ]
  },
  {
   "cell_type": "code",
   "execution_count": null,
   "metadata": {},
   "outputs": [],
   "source": [
    "# Train the model\n",
    "history = model.fit(dataset_train, epochs=20, validation_data=dataset_test)"
   ]
  },
  {
   "attachments": {},
   "cell_type": "markdown",
   "metadata": {},
   "source": [
    "# Predict"
   ]
  },
  {
   "cell_type": "code",
   "execution_count": null,
   "metadata": {},
   "outputs": [],
   "source": [
    "ds_test = [exs for exs in dataset_test.as_numpy_iterator()]\n",
    "len(ds_test)"
   ]
  },
  {
   "cell_type": "code",
   "execution_count": null,
   "metadata": {},
   "outputs": [],
   "source": [
    "for exs in dataset_test.as_numpy_iterator() : \n",
    "    \n",
    "    X,Y = exs\n",
    "\n",
    "    for x,y in zip(X,Y) : \n",
    "\n",
    "        print('='*20)\n",
    "\n",
    "        label = class_names[np.argmax(y)]\n",
    "\n",
    "        fig = px.imshow(x)\n",
    "        fig.show()\n",
    "\n",
    "        img = np.expand_dims(x, axis=0) # add batch dimension\n",
    "        res = model.predict(img)\n",
    "\n",
    "        print(f'truth : {label}')\n",
    "        print(f'predict : {class_names[np.argmax(res)]}')\n",
    "\n",
    "        fig2 = px.bar(x=class_names, y=res[0])\n",
    "        fig2.show()"
   ]
  },
  {
   "cell_type": "code",
   "execution_count": null,
   "metadata": {},
   "outputs": [],
   "source": [
    "X.shape"
   ]
  },
  {
   "cell_type": "code",
   "execution_count": null,
   "metadata": {},
   "outputs": [],
   "source": []
  }
 ],
 "metadata": {
  "kernelspec": {
   "display_name": "Python 3",
   "language": "python",
   "name": "python3"
  },
  "language_info": {
   "codemirror_mode": {
    "name": "ipython",
    "version": 3
   },
   "file_extension": ".py",
   "mimetype": "text/x-python",
   "name": "python",
   "nbconvert_exporter": "python",
   "pygments_lexer": "ipython3",
   "version": "3.10.10"
  },
  "orig_nbformat": 4
 },
 "nbformat": 4,
 "nbformat_minor": 2
}
