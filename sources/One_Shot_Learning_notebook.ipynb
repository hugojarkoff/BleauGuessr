{
 "cells": [
  {
   "attachments": {},
   "cell_type": "markdown",
   "metadata": {},
   "source": [
    "# Playground One Shot Learning"
   ]
  },
  {
   "cell_type": "code",
   "execution_count": null,
   "metadata": {},
   "outputs": [],
   "source": [
    "COLAB = False\n",
    "if COLAB : \n",
    "    !pip install tensorflow-addons\n",
    "    from google.colab import drive\n",
    "    drive.mount('/content/gdrive')"
   ]
  },
  {
   "cell_type": "code",
   "execution_count": null,
   "metadata": {},
   "outputs": [],
   "source": [
    "import os\n",
    "os.environ['TF_CPP_MIN_LOG_LEVEL'] = '3'\n",
    "\n",
    "import pandas as pd\n",
    "import numpy as np\n",
    "import shutil\n",
    "import os\n",
    "import tensorflow as tf\n",
    "import tensorflow_addons as tfa\n",
    "from tensorflow.keras import layers, models\n",
    "from tensorflow.keras.preprocessing import image_dataset_from_directory\n",
    "from plotly import express as px\n",
    "import cv2\n",
    "\n",
    "from tensorflow.keras import Sequential, Model\n",
    "from tensorflow.keras.layers import Input, Conv2D, MaxPooling2D, Flatten, Dense, Lambda\n",
    "from tensorflow.keras import optimizers\n",
    "\n",
    "import logging\n",
    "logging.getLogger('tensorflow_addons').setLevel(logging.ERROR)"
   ]
  },
  {
   "cell_type": "code",
   "execution_count": null,
   "metadata": {},
   "outputs": [],
   "source": [
    "if COLAB : \n",
    "    DATA_PATH = '/content/gdrive/MyDrive/Projects/BleauGuessr/data/butteauxpeintres2/'\n",
    "else :\n",
    "    DATA_PATH = '../data/butteauxpeintres2/'\n",
    "\n",
    "folders = next(os.walk(DATA_PATH))[1]  # Get a list of all subdirectories\n",
    "NUM_CLASSES = len(folders)  # Count the number of subdirectories\n",
    "\n",
    "IMG_SIZE = (256, 256)"
   ]
  },
  {
   "cell_type": "code",
   "execution_count": null,
   "metadata": {},
   "outputs": [],
   "source": [
    "n_boulders = 0\n",
    "n_imgs = 0\n",
    "for boulder in folders : \n",
    "    n_boulders += 1\n",
    "    n_imgs += len(os.listdir(DATA_PATH+boulder))\n",
    "print('Total boulders :', n_boulders)\n",
    "print('Total images :', n_imgs)"
   ]
  },
  {
   "cell_type": "code",
   "execution_count": null,
   "metadata": {},
   "outputs": [],
   "source": [
    "X = []\n",
    "Y = []\n",
    "n_boulder = 0\n",
    "cat_dict = {}\n",
    "for boulder in folders : \n",
    "    cat_dict[n_boulder] = boulder\n",
    "    boulder_folder = DATA_PATH + boulder\n",
    "    for img_path in os.listdir(boulder_folder) :\n",
    "        img_path = os.path.join(boulder_folder, img_path)\n",
    "        img = tf.keras.utils.load_img(img_path)\n",
    "        img = tf.image.resize(img, (256,256)) / 255.\n",
    "        X.append(img)\n",
    "        Y.append(n_boulder)\n",
    "    n_boulder+=1\n",
    "X = np.array(X) # (56, 256, 256, 3)\n",
    "Y = np.array(Y) # (56, 1)\n",
    "cat_dict"
   ]
  },
  {
   "cell_type": "code",
   "execution_count": null,
   "metadata": {},
   "outputs": [],
   "source": [
    "def get_batch(batch_size, X=X, Y=Y) :\n",
    "\n",
    "    X = X.copy()\n",
    "    Y = Y.copy() \n",
    "\n",
    "    n_classes = len(cat_dict)\n",
    "\n",
    "    # (right-side) boulders selected for this batch\n",
    "    boulders_classes = np.random.choice(n_classes, size=(batch_size,), replace=False) # example : [0,8,1,5,10,9]\n",
    "\n",
    "    # Initialize pairs of images\n",
    "    pairs = [np.zeros((batch_size, 256, 256 , 3)) for i in range(2)] # list of 2 : [(6, 256, 265, 3), (6, 256, 265, 3)]\n",
    "\n",
    "    # Initialiaz targets\n",
    "    targets = np.random.randint(2, size=6) # example : [0,1,1,0,1,0]\n",
    "\n",
    "    for i in range(batch_size) : \n",
    "        \n",
    "        class_i = boulders_classes[i]\n",
    "\n",
    "        # Take random img from this class\n",
    "        list_available_imgs = np.argwhere(Y == class_i).T[0]\n",
    "\n",
    "        n_img_1 = np.random.choice(list_available_imgs)\n",
    "\n",
    "        pairs[0][i, ...] = X[n_img_1]\n",
    "\n",
    "        # 2nd image is same class (target == 1)\n",
    "        if targets[i] : \n",
    "            list_available_imgs_2 = np.setdiff1d(list_available_imgs, n_img_1)\n",
    "        else : \n",
    "            class_i_2 = np.random.choice(np.setdiff1d(np.arange(n_classes), class_i))\n",
    "\n",
    "            list_available_imgs_2 = np.argwhere(Y == class_i_2).T[0]\n",
    "\n",
    "        n_img_2 = np.random.choice(list_available_imgs_2)\n",
    "\n",
    "        pairs[1][i, ...] = X[n_img_2]\n",
    "\n",
    "\n",
    "    return (pairs, targets)"
   ]
  },
  {
   "cell_type": "code",
   "execution_count": null,
   "metadata": {},
   "outputs": [],
   "source": [
    "def batch_generator():\n",
    "    \"\"\"\n",
    "    a generator for batches, so model.fit_generator can be used.\n",
    "    \"\"\"\n",
    "    batch_size=6\n",
    "    while True:\n",
    "        pairs, targets = get_batch(batch_size)\n",
    "        yield (pairs, targets)"
   ]
  },
  {
   "cell_type": "code",
   "execution_count": null,
   "metadata": {},
   "outputs": [],
   "source": [
    "def get_siamese_model(input_shape):\n",
    "    \"\"\"\n",
    "        Model architecture\n",
    "    \"\"\"\n",
    "    \n",
    "    # Define the tensors for the two input images\n",
    "    left_input = Input(input_shape)\n",
    "    right_input = Input(input_shape)\n",
    "    \n",
    "    # Convolutional Neural Network\n",
    "    model = Sequential()\n",
    "    model.add(Conv2D(32, (5,5), activation='relu', input_shape=input_shape,))\n",
    "    model.add(MaxPooling2D())\n",
    "    model.add(Conv2D(64, (3,3), activation='relu',))\n",
    "    model.add(MaxPooling2D())\n",
    "    model.add(Conv2D(128, (3,3), activation='relu',))\n",
    "    model.add(MaxPooling2D())\n",
    "    model.add(Conv2D(256, (3,3), activation='relu',))\n",
    "    model.add(MaxPooling2D())\n",
    "    model.add(Conv2D(512, (3,3), activation='relu',))\n",
    "    model.add(Flatten())\n",
    "    model.add(Dense(512, activation='sigmoid',))\n",
    "    \n",
    "    # Generate the encodings (feature vectors) for the two images\n",
    "    encoded_l = model(left_input)\n",
    "    encoded_r = model(right_input)\n",
    "    \n",
    "    # Add a customized layer to compute the absolute difference between the encodings\n",
    "    L1_layer = Lambda(lambda tensors : tf.keras.backend.abs(tensors[0] - tensors[1]))\n",
    "    L1_distance = L1_layer([encoded_l, encoded_r])\n",
    "    \n",
    "    # Add a dense layer with a sigmoid unit to generate the similarity score\n",
    "    prediction = Dense(1,activation='sigmoid',)(L1_distance)\n",
    "    \n",
    "    # Connect the inputs with the outputs\n",
    "    siamese_net = Model(inputs=[left_input,right_input],outputs=prediction)\n",
    "    \n",
    "    # return the model\n",
    "    return siamese_net\n"
   ]
  },
  {
   "cell_type": "code",
   "execution_count": null,
   "metadata": {},
   "outputs": [],
   "source": [
    "model = get_siamese_model((256, 256, 3))\n",
    "model.compile(loss=\"binary_crossentropy\",optimizer=optimizer=optimizers.Adam(0.0001))\n",
    "model.summary()"
   ]
  },
  {
   "cell_type": "code",
   "execution_count": null,
   "metadata": {},
   "outputs": [],
   "source": [
    "# Hyper parameters\n",
    "n_iter = 2000 # No. of training iterations\n",
    "\n",
    "# No testing for now which is really bad lol\n",
    "\n",
    "print(\"Starting training process!\")\n",
    "print(\"-------------------------------------\")\n",
    "for i in range(1, n_iter+1):\n",
    "    (inputs,targets) = get_batch(6)\n",
    "    loss = model.train_on_batch(inputs, targets)\n",
    "    print(loss)"
   ]
  },
  {
   "cell_type": "code",
   "execution_count": null,
   "metadata": {},
   "outputs": [],
   "source": [
    "x, y = get_batch(6)\n",
    "print(y)\n",
    "model.predict(x)"
   ]
  },
  {
   "cell_type": "code",
   "execution_count": null,
   "metadata": {},
   "outputs": [],
   "source": []
  }
 ],
 "metadata": {
  "kernelspec": {
   "display_name": "bleauguessrenv",
   "language": "python",
   "name": "python3"
  },
  "language_info": {
   "codemirror_mode": {
    "name": "ipython",
    "version": 3
   },
   "file_extension": ".py",
   "mimetype": "text/x-python",
   "name": "python",
   "nbconvert_exporter": "python",
   "pygments_lexer": "ipython3",
   "version": "3.10.10"
  },
  "orig_nbformat": 4
 },
 "nbformat": 4,
 "nbformat_minor": 2
}
